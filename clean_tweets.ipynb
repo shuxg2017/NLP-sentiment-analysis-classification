{
 "cells": [
  {
   "cell_type": "code",
   "execution_count": 1,
   "metadata": {},
   "outputs": [],
   "source": [
    "import pandas as pd\n",
    "import time\n",
    "\n",
    "def clean_tweets(csv_file, tweet_col = 'string'):\n",
    "    df = pd.read_csv(csv_file)\n",
    "    data = df[tweet_col].values\n",
    "    clean_data = []\n",
    "    ######################## Denoising Texts #########################\n",
    "    letters = {'A', 'B', 'C', 'E', 'F', 'G', 'H', 'M', 'N', 'P', 'S', 'V', 'Y', 'a', 'b', 'v'}\n",
    "    symbols = {'!', '#', '$', '&', \"'\", '(', ')', '*', '+', '-', '_', '.', '/', ':', ';', '=', '?', '`', '|', '~',\n",
    "               '[', ']', '^', ',',\n",
    "               '\\x89Û_', '\\x89Ûªt', '\\x89', '\\x89ÛÏ', '\\x89Ûªm', '\\x89ÛÓ', '\\x89Ûª', '\\x89Û÷', '\\x89ÛªS', 'RAZEDåÊ',\n",
    "               '\\x89ÛÒ', 'Ûªs', 'Û_', 'ûªt', 'û\\x9d'}\n",
    "    replace = {'gonna'}\n",
    "    \n",
    "    start = time.time()\n",
    "    for d in data:\n",
    "        ws = d.split(' ')\n",
    "        for i, w in enumerate(ws):\n",
    "            # process 1: remove https and @\n",
    "            if ('http' in w) or ('@' in w) or ('%' in w):\n",
    "                ws[i] = ''\n",
    "            # process 2: remove single letters\n",
    "            if w in letters:\n",
    "                ws[i] = ''\n",
    "            # process 3: replace gonna to going to\n",
    "            if w in replace:\n",
    "                ws[i] = 'going to'\n",
    "            # process 4: remove numbers\n",
    "            if w.isdigit():\n",
    "                ws[i] = ''\n",
    "        # combine words into sentence\n",
    "        d = ' '.join(ws)\n",
    "        # process 5: remove symbols and emotes\n",
    "        for s in symbols:\n",
    "            d = d.replace(s, ' ')\n",
    "        ws = d.split(' ')\n",
    "        for i, w in enumerate(ws):\n",
    "            if w.isdigit():\n",
    "                ws[i] = ''\n",
    "            if len(w) == 1:\n",
    "                ws[i] = ''\n",
    "        new_d = ' '.join(ws)\n",
    "        # process 6: replace multiple spaces with one space\n",
    "        new_d = ' '.join(new_d.split())\n",
    "        clean_data.append(new_d.lower())\n",
    "    end = time.time() - start\n",
    "    df[tweet_col] = clean_data\n",
    "    print('run time: {:.3f} seconds'.format(end))\n",
    "    return df"
   ]
  },
  {
   "cell_type": "code",
   "execution_count": 2,
   "metadata": {},
   "outputs": [
    {
     "name": "stdout",
     "output_type": "stream",
     "text": [
      "run time: 0.026 seconds\n"
     ]
    }
   ],
   "source": [
    "c = clean_tweets('uncleaned_tweets.csv')\n",
    "c.to_csv('cleaned_tweets.csv', index = False)"
   ]
  },
  {
   "cell_type": "code",
   "execution_count": null,
   "metadata": {},
   "outputs": [],
   "source": []
  },
  {
   "cell_type": "code",
   "execution_count": null,
   "metadata": {},
   "outputs": [],
   "source": []
  }
 ],
 "metadata": {
  "kernelspec": {
   "display_name": "Python 3",
   "language": "python",
   "name": "python3"
  },
  "language_info": {
   "codemirror_mode": {
    "name": "ipython",
    "version": 3
   },
   "file_extension": ".py",
   "mimetype": "text/x-python",
   "name": "python",
   "nbconvert_exporter": "python",
   "pygments_lexer": "ipython3",
   "version": "3.7.7"
  }
 },
 "nbformat": 4,
 "nbformat_minor": 4
}
