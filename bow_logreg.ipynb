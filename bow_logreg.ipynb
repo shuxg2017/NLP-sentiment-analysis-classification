{
 "cells": [
  {
   "cell_type": "code",
   "execution_count": 1,
   "metadata": {},
   "outputs": [
    {
     "name": "stderr",
     "output_type": "stream",
     "text": [
      "Using TensorFlow backend.\n"
     ]
    }
   ],
   "source": [
    "import numpy as np\n",
    "import pandas as pd\n",
    "from nltk.corpus import stopwords\n",
    "from nltk import word_tokenize\n",
    "from keras.preprocessing.sequence import pad_sequences\n",
    "import matplotlib.pyplot as plt\n",
    "import time\n",
    "import seaborn as sns\n",
    "sns.set()"
   ]
  },
  {
   "cell_type": "markdown",
   "metadata": {},
   "source": [
    "### Load Dataset"
   ]
  },
  {
   "cell_type": "code",
   "execution_count": 2,
   "metadata": {},
   "outputs": [
    {
     "name": "stdout",
     "output_type": "stream",
     "text": [
      "number of sentences: 1864\n"
     ]
    }
   ],
   "source": [
    "df = pd.read_csv('cleaned_tweets.csv')\n",
    "print('number of sentences: {}'.format(len(df)))"
   ]
  },
  {
   "cell_type": "markdown",
   "metadata": {},
   "source": [
    "### Bag of Words"
   ]
  },
  {
   "cell_type": "code",
   "execution_count": 3,
   "metadata": {},
   "outputs": [
    {
     "name": "stdout",
     "output_type": "stream",
     "text": [
      "run time: 4.715 seconds\n"
     ]
    },
    {
     "data": {
      "text/plain": [
       "['like', 'amp', 'get', 'new', 'fire']"
      ]
     },
     "execution_count": 3,
     "metadata": {},
     "output_type": "execute_result"
    }
   ],
   "source": [
    "sentences = df.string.values.tolist() # extract all sentences from dataframe\n",
    "def BoW(sentences = sentences, num_words = 3000):\n",
    "    #---------- 1: build a dictionary for all the words in dataset ----------\n",
    "    word_index = {}\n",
    "    for i, sent in enumerate(sentences):\n",
    "        tokens = [w for w in word_tokenize(sent) if (w not in stopwords.words('english'))]\n",
    "        for t in tokens:\n",
    "            if t not in word_index:\n",
    "                word_index[t] = 1\n",
    "            else:\n",
    "                word_index[t] += 1\n",
    "    #---------- 2: sort words by their frequences ----------\n",
    "    df_word = pd.DataFrame(columns = ['word', 'freq'])\n",
    "    w = []\n",
    "    f = []\n",
    "    for k, v in word_index.items():\n",
    "        w.append(k)\n",
    "        f.append(v)\n",
    "    df_word['word'] = w\n",
    "    df_word['freq'] = f\n",
    "    df_word = df_word.sort_values(by = 'freq', ascending = False, ignore_index = True)\n",
    "    #---------- 3: pick the top num_words ----------\n",
    "    bow = df_word.word.values[0:num_words].tolist()\n",
    "    bow.append('NONE')\n",
    "    return bow, df_word\n",
    "# execute\n",
    "start = time.time()\n",
    "bag, df_word = BoW()\n",
    "end = time.time() - start\n",
    "print('run time: {:.3f} seconds'.format(end))\n",
    "bag[0:5]"
   ]
  },
  {
   "cell_type": "markdown",
   "metadata": {},
   "source": [
    "**1. load tweets & labels before encoding**<br>\n",
    "**2. pick the label you want to use**<br>\n",
    "**3. encode tweets**"
   ]
  },
  {
   "cell_type": "code",
   "execution_count": 5,
   "metadata": {},
   "outputs": [
    {
     "data": {
      "text/plain": [
       "['Is Pos?', 'Is Neg?', 'Is Neutral?', 'Is Ad/Spam?', 'Is Review?']"
      ]
     },
     "execution_count": 5,
     "metadata": {},
     "output_type": "execute_result"
    }
   ],
   "source": [
    "label_cols = df.columns.values.tolist()[:-1]\n",
    "label_cols[:-1]"
   ]
  },
  {
   "cell_type": "code",
   "execution_count": 8,
   "metadata": {},
   "outputs": [
    {
     "name": "stdout",
     "output_type": "stream",
     "text": [
      "1558 1558\n"
     ]
    }
   ],
   "source": [
    "def get_dataset(label = 'Is News?'):\n",
    "    # df must be the original dataframe\n",
    "    y = df[df[label].notnull()][label].values\n",
    "    x = df[df[label].notnull()]['string'].values.tolist()\n",
    "    return x, y\n",
    "X, y = get_dataset()\n",
    "print(len(X), len(y))"
   ]
  },
  {
   "cell_type": "code",
   "execution_count": 9,
   "metadata": {},
   "outputs": [
    {
     "data": {
      "text/plain": [
       "((1189, 3001), (1189,))"
      ]
     },
     "execution_count": 9,
     "metadata": {},
     "output_type": "execute_result"
    }
   ],
   "source": [
    "sequences = np.zeros((len(X), len(bag)))\n",
    "for i, x in enumerate(X):\n",
    "    for w in x.split(' '):\n",
    "        if w in bag:\n",
    "            sequences[i, bag.index(w)] += 1\n",
    "        else:\n",
    "            sequences[i, -1] += 1\n",
    "x_input = sequences[0:1189]\n",
    "y = y[0:1189]\n",
    "x_input.shape, y.shape"
   ]
  },
  {
   "cell_type": "markdown",
   "metadata": {},
   "source": [
    "### Input Pipeline"
   ]
  },
  {
   "cell_type": "code",
   "execution_count": 10,
   "metadata": {},
   "outputs": [
    {
     "name": "stdout",
     "output_type": "stream",
     "text": [
      "positive case:  340\n",
      "negative case:  849\n"
     ]
    }
   ],
   "source": [
    "print('positive case: ', len(y[y == 1]))\n",
    "print('negative case: ', len(y[y == 0]))"
   ]
  },
  {
   "cell_type": "markdown",
   "metadata": {},
   "source": [
    "**split train and test**"
   ]
  },
  {
   "cell_type": "code",
   "execution_count": 11,
   "metadata": {},
   "outputs": [],
   "source": [
    "from sklearn.model_selection import train_test_split\n",
    "import tensorflow as tf"
   ]
  },
  {
   "cell_type": "code",
   "execution_count": 12,
   "metadata": {},
   "outputs": [
    {
     "name": "stdout",
     "output_type": "stream",
     "text": [
      "positive case:  (509, 3001) (68, 3001)\n",
      "negative case:  (509, 3001) (340, 3001)\n"
     ]
    }
   ],
   "source": [
    "rs = 41\n",
    "pos_trn, pos_val, _, _ = train_test_split(x_input[y == 1], y[y == 1], test_size = 0.2, random_state = rs)\n",
    "neg_trn, neg_val, _, _ = train_test_split(x_input[y == 0], y[y == 0], test_size = 0.4, random_state = rs)\n",
    "pos_trn = np.vstack((pos_trn, pos_trn, pos_trn))[0:neg_trn.shape[0]]    # oversampling\n",
    "print('positive case: ', pos_trn.shape, pos_val.shape)\n",
    "print('negative case: ', neg_trn.shape, neg_val.shape)"
   ]
  },
  {
   "cell_type": "code",
   "execution_count": 13,
   "metadata": {},
   "outputs": [
    {
     "name": "stdout",
     "output_type": "stream",
     "text": [
      "training:  (1018, 3001) (1018,)\n",
      "validation:  (408, 3001) (408,)\n"
     ]
    }
   ],
   "source": [
    "# finish training dataset\n",
    "x_trn = np.vstack((pos_trn, neg_trn))\n",
    "y_trn = np.hstack((np.ones((pos_trn.shape[0])),\n",
    "                   np.zeros((neg_trn.shape[0]))))\n",
    "# finish validation dataset\n",
    "x_val = np.vstack((pos_val, neg_val))\n",
    "y_val = np.hstack((np.ones((pos_val.shape[0])),\n",
    "                   np.zeros((neg_val.shape[0]))))\n",
    "print('training: ', x_trn.shape, y_trn.shape)\n",
    "print('validation: ', x_val.shape, y_val.shape)\n",
    "# numpy to tensor\n",
    "dataset_trn = tf.data.Dataset.from_tensor_slices((x_trn, y_trn)).shuffle(450).batch(256)\n",
    "dataset_val = tf.data.Dataset.from_tensor_slices((x_val, y_val)).shuffle(100).batch(256)"
   ]
  },
  {
   "cell_type": "markdown",
   "metadata": {},
   "source": [
    "**confusion matrix**"
   ]
  },
  {
   "cell_type": "code",
   "execution_count": 14,
   "metadata": {},
   "outputs": [],
   "source": [
    "def get_cm(inputs, targets, show_acc = False):\n",
    "    cm = np.zeros((2, 2))\n",
    "    pred_pos = model.predict_classes(inputs[targets == 1]).squeeze()\n",
    "    pred_neg = model.predict_classes(inputs[targets == 0]).squeeze()\n",
    "    cm[0, 0] = np.sum(pred_pos == 1)\n",
    "    cm[1, 0] = np.sum(pred_pos == 0)\n",
    "    cm[0, 1] = np.sum(pred_neg == 1)\n",
    "    cm[1, 1] = np.sum(pred_neg == 0)\n",
    "    pos_acc = cm[0, 0]/(np.sum(cm[:, 0]))\n",
    "    neg_acc = cm[1, 1]/(np.sum(cm[:, 1]))\n",
    "    if show_acc:\n",
    "        print('pos acc: {:.4f}, neg acc: {:.4f}'.format(pos_acc, neg_acc))\n",
    "    return cm"
   ]
  },
  {
   "cell_type": "markdown",
   "metadata": {},
   "source": [
    "### Build Logistic Regressor"
   ]
  },
  {
   "cell_type": "code",
   "execution_count": 20,
   "metadata": {},
   "outputs": [
    {
     "name": "stdout",
     "output_type": "stream",
     "text": [
      "Model: \"sequential_1\"\n",
      "_________________________________________________________________\n",
      "Layer (type)                 Output Shape              Param #   \n",
      "=================================================================\n",
      "dense_1 (Dense)              (None, 1)                 3002      \n",
      "=================================================================\n",
      "Total params: 3,002\n",
      "Trainable params: 3,002\n",
      "Non-trainable params: 0\n",
      "_________________________________________________________________\n"
     ]
    }
   ],
   "source": [
    "model = tf.keras.models.Sequential([tf.keras.layers.Dense(1, input_shape = (sequences.shape[1],), activation = 'sigmoid')])\n",
    "model.compile(optimizer = 'adam', loss = 'binary_crossentropy', metrics = ['accuracy'])\n",
    "model.summary()"
   ]
  },
  {
   "cell_type": "code",
   "execution_count": 32,
   "metadata": {},
   "outputs": [
    {
     "name": "stdout",
     "output_type": "stream",
     "text": [
      "epoch: 0, acc: 0.978, val_acc: 0.887\n",
      "-------------------------------------------\n",
      "epoch: 0, acc: 0.978, val_acc: 0.887\n"
     ]
    }
   ],
   "source": [
    "for epoch in range(100):\n",
    "    h = model.fit(dataset_trn, epochs = 1, validation_data = dataset_val, verbose = 0)\n",
    "    h1, h2 = h.history['accuracy'], h.history['val_accuracy']\n",
    "    if epoch%20 == 0:\n",
    "        print('epoch: {}, acc: {:.3f}, val_acc: {:.3f}'.format(epoch, h1[0], h2[0]))\n",
    "        print('-------------------------------------------')\n",
    "    if h1[0] >= 0.92 and h2[0] >= 0.88:\n",
    "        print('epoch: {}, acc: {:.3f}, val_acc: {:.3f}'.format(epoch, h1[0], h2[0]))\n",
    "        break"
   ]
  },
  {
   "cell_type": "code",
   "execution_count": 33,
   "metadata": {},
   "outputs": [],
   "source": [
    "# model.save('BoW_LogReg_98_88_isNews')"
   ]
  },
  {
   "cell_type": "markdown",
   "metadata": {},
   "source": [
    "**validation dataset (results)**"
   ]
  },
  {
   "cell_type": "code",
   "execution_count": 34,
   "metadata": {},
   "outputs": [
    {
     "name": "stdout",
     "output_type": "stream",
     "text": [
      "pos acc: 0.7647, neg acc: 0.9118\n"
     ]
    },
    {
     "data": {
      "text/plain": [
       "array([[ 52.,  30.],\n",
       "       [ 16., 310.]])"
      ]
     },
     "execution_count": 34,
     "metadata": {},
     "output_type": "execute_result"
    }
   ],
   "source": [
    "get_cm(x_val, y_val, show_acc = True)"
   ]
  },
  {
   "cell_type": "markdown",
   "metadata": {},
   "source": [
    "**train dataset (results)**"
   ]
  },
  {
   "cell_type": "code",
   "execution_count": 35,
   "metadata": {},
   "outputs": [
    {
     "name": "stdout",
     "output_type": "stream",
     "text": [
      "pos acc: 0.9862, neg acc: 0.9705\n"
     ]
    },
    {
     "data": {
      "text/plain": [
       "array([[502.,  15.],\n",
       "       [  7., 494.]])"
      ]
     },
     "execution_count": 35,
     "metadata": {},
     "output_type": "execute_result"
    }
   ],
   "source": [
    "get_cm(x_trn, y_trn, show_acc = True)"
   ]
  },
  {
   "cell_type": "markdown",
   "metadata": {},
   "source": [
    "### Coefficient Table"
   ]
  },
  {
   "cell_type": "code",
   "execution_count": 36,
   "metadata": {},
   "outputs": [],
   "source": [
    "df_logreg = pd.DataFrame(columns = ['word', 'parameter'])\n",
    "df_logreg.word = bag\n",
    "df_logreg.parameter = model.get_weights()[0].squeeze()"
   ]
  },
  {
   "cell_type": "code",
   "execution_count": 37,
   "metadata": {
    "scrolled": false
   },
   "outputs": [],
   "source": [
    "pd.options.display.max_rows = None\n",
    "ascend = df_logreg.sort_values(by = 'parameter', ascending = True, ignore_index = True).iloc[0:21]\n",
    "descend = df_logreg.sort_values(by = 'parameter', ascending = False, ignore_index = True).iloc[0:21]"
   ]
  },
  {
   "cell_type": "code",
   "execution_count": 38,
   "metadata": {},
   "outputs": [
    {
     "data": {
      "image/png": "[encoded data removed]",
      "text/plain": [
       "<Figure size 576x720 with 2 Axes>"
      ]
     },
     "metadata": {},
     "output_type": "display_data"
    }
   ],
   "source": [
    "plt.figure(figsize = (8, 10))\n",
    "plt.subplot(1, 2, 1)\n",
    "plt.barh(ascend.sort_values(by = 'parameter', ascending = False).word,\n",
    "         np.abs(ascend.sort_values(by = 'parameter', ascending = False).parameter))\n",
    "plt.title('not News')\n",
    "plt.subplot(1, 2, 2)\n",
    "plt.barh(descend.sort_values(by = 'parameter', ascending = True).word,\n",
    "         np.abs(descend.sort_values(by = 'parameter', ascending = True).parameter))\n",
    "plt.title('is News')\n",
    "plt.tight_layout()"
   ]
  },
  {
   "cell_type": "markdown",
   "metadata": {},
   "source": [
    "### Reverse Engineer"
   ]
  },
  {
   "cell_type": "code",
   "execution_count": 39,
   "metadata": {},
   "outputs": [],
   "source": [
    "def misclassified_tweets(label = 1):\n",
    "    BoW_np = np.array(bag)\n",
    "    x     = x_val[y_val == label]\n",
    "    pred  = model.predict_classes(x).squeeze()\n",
    "    x_mis = x[pred == (1 - label)]\n",
    "\n",
    "    tweets = []\n",
    "    \n",
    "    for ele in x_mis:\n",
    "        words = BoW_np[ele != 0].tolist()\n",
    "        tweets.append(' '.join(words))\n",
    "    return tweets"
   ]
  },
  {
   "cell_type": "code",
   "execution_count": 40,
   "metadata": {},
   "outputs": [
    {
     "name": "stdout",
     "output_type": "stream",
     "text": [
      "Test Dataset (not News) Misclassified\n"
     ]
    },
    {
     "data": {
      "text/plain": [
       "['rescue link animalrescue coastal german shared oc shepherd',\n",
       " 'gt armageddon official NONE',\n",
       " 'video watch oil spill mexico bp birthday NONE',\n",
       " 'destroy NONE',\n",
       " 'years making four masterpiece NONE',\n",
       " 'bleeding started ear NONE',\n",
       " 'seismic intensity sismo miyagi detectado japì jst NONE',\n",
       " 'pulls somehow NONE',\n",
       " 'injured NONE',\n",
       " 'fatality',\n",
       " 'gt everyone floods destroyed extreme soon starts servers load ends maintenance NONE',\n",
       " 'earthquake drill',\n",
       " 'hiroshima survivors eyewitness number history projects accounts gleaned oral NONE',\n",
       " 'us nuclear years come fact reactor quick NONE',\n",
       " 'area flooding reported ten po NONE',\n",
       " 'injury stock hand floyd michael fantasy usatoday devalue NONE',\n",
       " 'year warning plan heat friends wave visit NONE',\n",
       " 'see hurricane guillermo NONE',\n",
       " 'flood myanmar arrived bago NONE',\n",
       " 'deluged heavy rainfall NONE',\n",
       " 'performance incredible gollum NONE',\n",
       " 'evacuate building ship abandon dealbreaker NONE',\n",
       " 'photo bombed',\n",
       " 'bioterrorism fight sir NONE',\n",
       " 'government enugu demolish centre illegal structures international conference NONE',\n",
       " 'emergency across street evacuation building happening NONE',\n",
       " 'fatality',\n",
       " 'people human military died japanese NONE',\n",
       " 'bomb hiroshima devastation place incredible shows NONE',\n",
       " 'new hostages free taking dangerous porn tube sex clip adult NONE']"
      ]
     },
     "execution_count": 40,
     "metadata": {},
     "output_type": "execute_result"
    }
   ],
   "source": [
    "print('Test Dataset (not News) Misclassified')\n",
    "misclassified_tweets(label = 0)"
   ]
  },
  {
   "cell_type": "code",
   "execution_count": null,
   "metadata": {},
   "outputs": [],
   "source": []
  }
 ],
 "metadata": {
  "kernelspec": {
   "display_name": "Python 3",
   "language": "python",
   "name": "python3"
  },
  "language_info": {
   "codemirror_mode": {
    "name": "ipython",
    "version": 3
   },
   "file_extension": ".py",
   "mimetype": "text/x-python",
   "name": "python",
   "nbconvert_exporter": "python",
   "pygments_lexer": "ipython3",
   "version": "3.7.7"
  }
 },
 "nbformat": 4,
 "nbformat_minor": 4
}
