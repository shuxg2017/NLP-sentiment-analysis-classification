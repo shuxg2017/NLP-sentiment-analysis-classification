{
 "cells": [
  {
   "cell_type": "code",
   "execution_count": 1,
   "metadata": {},
   "outputs": [],
   "source": [
    "from nltk import word_tokenize\n",
    "from nltk.corpus import stopwords\n",
    "import pandas as pd\n",
    "import numpy as np\n",
    "from tensorflow.keras.preprocessing.text import Tokenizer\n",
    "from tensorflow.keras.preprocessing.sequence import pad_sequences\n",
    "import matplotlib.pyplot as plt\n",
    "import seaborn as sns\n",
    "sns.set()"
   ]
  },
  {
   "cell_type": "markdown",
   "metadata": {},
   "source": [
    "### Load Dataset"
   ]
  },
  {
   "cell_type": "code",
   "execution_count": 2,
   "metadata": {},
   "outputs": [
    {
     "name": "stdout",
     "output_type": "stream",
     "text": [
      "number of sentences: 1864\n"
     ]
    },
    {
     "data": {
      "text/html": [
       "<div>\n",
       "<style scoped>\n",
       "    .dataframe tbody tr th:only-of-type {\n",
       "        vertical-align: middle;\n",
       "    }\n",
       "\n",
       "    .dataframe tbody tr th {\n",
       "        vertical-align: top;\n",
       "    }\n",
       "\n",
       "    .dataframe thead th {\n",
       "        text-align: right;\n",
       "    }\n",
       "</style>\n",
       "<table border=\"1\" class=\"dataframe\">\n",
       "  <thead>\n",
       "    <tr style=\"text-align: right;\">\n",
       "      <th></th>\n",
       "      <th>Is Pos?</th>\n",
       "      <th>Is Neg?</th>\n",
       "      <th>Is Neutral?</th>\n",
       "      <th>Is Ad/Spam?</th>\n",
       "      <th>Is Review?</th>\n",
       "      <th>Is News?</th>\n",
       "      <th>string</th>\n",
       "    </tr>\n",
       "  </thead>\n",
       "  <tbody>\n",
       "    <tr>\n",
       "      <th>0</th>\n",
       "      <td>0.0</td>\n",
       "      <td>1.0</td>\n",
       "      <td>0.0</td>\n",
       "      <td>0.0</td>\n",
       "      <td>0.0</td>\n",
       "      <td>0.0</td>\n",
       "      <td>screams in different languages</td>\n",
       "    </tr>\n",
       "    <tr>\n",
       "      <th>1</th>\n",
       "      <td>0.0</td>\n",
       "      <td>1.0</td>\n",
       "      <td>0.0</td>\n",
       "      <td>0.0</td>\n",
       "      <td>0.0</td>\n",
       "      <td>1.0</td>\n",
       "      <td>families to sue over legionnaires more than fa...</td>\n",
       "    </tr>\n",
       "    <tr>\n",
       "      <th>2</th>\n",
       "      <td>0.0</td>\n",
       "      <td>1.0</td>\n",
       "      <td>0.0</td>\n",
       "      <td>1.0</td>\n",
       "      <td>0.0</td>\n",
       "      <td>1.0</td>\n",
       "      <td>pandemonium in aba as woman delivers baby with...</td>\n",
       "    </tr>\n",
       "    <tr>\n",
       "      <th>3</th>\n",
       "      <td>0.0</td>\n",
       "      <td>1.0</td>\n",
       "      <td>0.0</td>\n",
       "      <td>0.0</td>\n",
       "      <td>0.0</td>\n",
       "      <td>0.0</td>\n",
       "      <td>my emotions are train wreck my body is train w...</td>\n",
       "    </tr>\n",
       "    <tr>\n",
       "      <th>4</th>\n",
       "      <td>0.0</td>\n",
       "      <td>1.0</td>\n",
       "      <td>0.0</td>\n",
       "      <td>0.0</td>\n",
       "      <td>0.0</td>\n",
       "      <td>1.0</td>\n",
       "      <td>alton brown just did livestream and he burned ...</td>\n",
       "    </tr>\n",
       "  </tbody>\n",
       "</table>\n",
       "</div>"
      ],
      "text/plain": [
       "   Is Pos?  Is Neg?  Is Neutral?  Is Ad/Spam?  Is Review?  Is News?  \\\n",
       "0      0.0      1.0          0.0          0.0         0.0       0.0   \n",
       "1      0.0      1.0          0.0          0.0         0.0       1.0   \n",
       "2      0.0      1.0          0.0          1.0         0.0       1.0   \n",
       "3      0.0      1.0          0.0          0.0         0.0       0.0   \n",
       "4      0.0      1.0          0.0          0.0         0.0       1.0   \n",
       "\n",
       "                                              string  \n",
       "0                     screams in different languages  \n",
       "1  families to sue over legionnaires more than fa...  \n",
       "2  pandemonium in aba as woman delivers baby with...  \n",
       "3  my emotions are train wreck my body is train w...  \n",
       "4  alton brown just did livestream and he burned ...  "
      ]
     },
     "execution_count": 2,
     "metadata": {},
     "output_type": "execute_result"
    }
   ],
   "source": [
    "df = pd.read_csv('cleaned_tweets.csv')\n",
    "print('number of sentences: {}'.format(len(df)))\n",
    "# extract all sentences to list\n",
    "sentences = df.string.values.tolist()\n",
    "df.head(5)"
   ]
  },
  {
   "cell_type": "markdown",
   "metadata": {},
   "source": [
    "**pick a label type**"
   ]
  },
  {
   "cell_type": "code",
   "execution_count": 3,
   "metadata": {},
   "outputs": [
    {
     "name": "stdout",
     "output_type": "stream",
     "text": [
      "['Is Pos?', 'Is Neg?', 'Is Neutral?', 'Is Ad/Spam?', 'Is Review?', 'Is News?']\n"
     ]
    }
   ],
   "source": [
    "print(df.columns.values.tolist()[:-1])\n",
    "col_label = 'Is News?'"
   ]
  },
  {
   "cell_type": "markdown",
   "metadata": {},
   "source": [
    "#### obtain training dataset (x, y) with dataframe format"
   ]
  },
  {
   "cell_type": "code",
   "execution_count": 4,
   "metadata": {},
   "outputs": [
    {
     "name": "stdout",
     "output_type": "stream",
     "text": [
      "1189 1189\n"
     ]
    }
   ],
   "source": [
    "stop = 1189\n",
    "df_y = df[df[col_label].notnull()][col_label].iloc[0:stop]\n",
    "df_x = df[df[col_label].notnull()]['string'].iloc[0:stop]\n",
    "print(len(df_y), len(df_x))"
   ]
  },
  {
   "cell_type": "markdown",
   "metadata": {},
   "source": [
    "### Preprocessing"
   ]
  },
  {
   "cell_type": "markdown",
   "metadata": {},
   "source": [
    "1. remove stopwords in each sentences\n",
    "2. find each word frequency"
   ]
  },
  {
   "cell_type": "code",
   "execution_count": 5,
   "metadata": {},
   "outputs": [
    {
     "data": {
      "text/html": [
       "<div>\n",
       "<style scoped>\n",
       "    .dataframe tbody tr th:only-of-type {\n",
       "        vertical-align: middle;\n",
       "    }\n",
       "\n",
       "    .dataframe tbody tr th {\n",
       "        vertical-align: top;\n",
       "    }\n",
       "\n",
       "    .dataframe thead th {\n",
       "        text-align: right;\n",
       "    }\n",
       "</style>\n",
       "<table border=\"1\" class=\"dataframe\">\n",
       "  <thead>\n",
       "    <tr style=\"text-align: right;\">\n",
       "      <th></th>\n",
       "      <th>word</th>\n",
       "      <th>freq</th>\n",
       "    </tr>\n",
       "  </thead>\n",
       "  <tbody>\n",
       "    <tr>\n",
       "      <th>0</th>\n",
       "      <td>like</td>\n",
       "      <td>97</td>\n",
       "    </tr>\n",
       "    <tr>\n",
       "      <th>1</th>\n",
       "      <td>amp</td>\n",
       "      <td>72</td>\n",
       "    </tr>\n",
       "    <tr>\n",
       "      <th>2</th>\n",
       "      <td>get</td>\n",
       "      <td>56</td>\n",
       "    </tr>\n",
       "    <tr>\n",
       "      <th>3</th>\n",
       "      <td>new</td>\n",
       "      <td>53</td>\n",
       "    </tr>\n",
       "    <tr>\n",
       "      <th>4</th>\n",
       "      <td>fire</td>\n",
       "      <td>52</td>\n",
       "    </tr>\n",
       "    <tr>\n",
       "      <th>...</th>\n",
       "      <td>...</td>\n",
       "      <td>...</td>\n",
       "    </tr>\n",
       "    <tr>\n",
       "      <th>6582</th>\n",
       "      <td>richard</td>\n",
       "      <td>1</td>\n",
       "    </tr>\n",
       "    <tr>\n",
       "      <th>6583</th>\n",
       "      <td>kaiser</td>\n",
       "      <td>1</td>\n",
       "    </tr>\n",
       "    <tr>\n",
       "      <th>6584</th>\n",
       "      <td>member</td>\n",
       "      <td>1</td>\n",
       "    </tr>\n",
       "    <tr>\n",
       "      <th>6585</th>\n",
       "      <td>mississippi</td>\n",
       "      <td>1</td>\n",
       "    </tr>\n",
       "    <tr>\n",
       "      <th>6586</th>\n",
       "      <td>obispo</td>\n",
       "      <td>1</td>\n",
       "    </tr>\n",
       "  </tbody>\n",
       "</table>\n",
       "<p>6587 rows × 2 columns</p>\n",
       "</div>"
      ],
      "text/plain": [
       "             word  freq\n",
       "0            like    97\n",
       "1             amp    72\n",
       "2             get    56\n",
       "3             new    53\n",
       "4            fire    52\n",
       "...           ...   ...\n",
       "6582      richard     1\n",
       "6583       kaiser     1\n",
       "6584       member     1\n",
       "6585  mississippi     1\n",
       "6586       obispo     1\n",
       "\n",
       "[6587 rows x 2 columns]"
      ]
     },
     "execution_count": 5,
     "metadata": {},
     "output_type": "execute_result"
    }
   ],
   "source": [
    "#---------- 1 ----------\n",
    "word_index = {}\n",
    "for i, sent in enumerate(sentences):\n",
    "    tokens = [w for w in word_tokenize(sent) if w not in stopwords.words('english')]\n",
    "    sentences[i] = ' '.join(tokens)\n",
    "    sentences[i] = str(sentences[i])\n",
    "    for t in tokens:\n",
    "        if t not in word_index:\n",
    "            word_index[t] = 1\n",
    "        else:\n",
    "            word_index[t] += 1\n",
    "#---------- 2 ----------\n",
    "df_word = pd.DataFrame(columns = ['word', 'freq'])\n",
    "w = []\n",
    "f = []\n",
    "for k, v in word_index.items():\n",
    "    w.append(k)\n",
    "    f.append(v)\n",
    "df_word['word'] = w\n",
    "df_word['freq'] = f\n",
    "df_word = df_word.sort_values(by = 'freq', ascending = False, ignore_index = True)\n",
    "df_word"
   ]
  },
  {
   "cell_type": "markdown",
   "metadata": {},
   "source": [
    "**tokenize words:**<br>\n",
    "**pick number of words you want to tokenize**"
   ]
  },
  {
   "cell_type": "code",
   "execution_count": 6,
   "metadata": {},
   "outputs": [
    {
     "data": {
      "text/plain": [
       "3101"
      ]
     },
     "execution_count": 6,
     "metadata": {},
     "output_type": "execute_result"
    }
   ],
   "source": [
    "num_words = 3100\n",
    "words = df_word.word.values[0:num_words].tolist()\n",
    "tokenizer = Tokenizer(num_words = num_words, oov_token = \"<OOV>\")\n",
    "tokenizer.fit_on_texts(words)\n",
    "len(tokenizer.word_index)"
   ]
  },
  {
   "cell_type": "markdown",
   "metadata": {},
   "source": [
    "#### get X TRAIN"
   ]
  },
  {
   "cell_type": "code",
   "execution_count": 7,
   "metadata": {},
   "outputs": [],
   "source": [
    "sequences = tokenizer.texts_to_sequences(sentences[0:stop])"
   ]
  },
  {
   "cell_type": "code",
   "execution_count": 8,
   "metadata": {},
   "outputs": [
    {
     "data": {
      "text/plain": [
       "[[176, 649, 1330],\n",
       " [75, 792, 144, 75, 500, 200, 619, 144, 796],\n",
       " [489, 1341, 598, 2419, 353, 103, 142, 493],\n",
       " [1028, 59, 101, 23, 59, 101, 101],\n",
       " [1, 352, 1, 192, 950, 1, 70, 2408, 1248, 190, 1, 1244],\n",
       " [97, 356, 1230, 248, 1232, 1236],\n",
       " [1, 142, 1, 2394, 222, 252, 2392],\n",
       " [501, 1290, 77, 134, 1296, 68, 1, 21, 178, 2351, 35, 1],\n",
       " [85, 303, 2326, 238, 11, 1276, 53, 490, 503, 258, 840],\n",
       " [2378, 55, 2380, 946, 1440, 46, 181, 115, 899, 517, 1, 1]]"
      ]
     },
     "execution_count": 8,
     "metadata": {},
     "output_type": "execute_result"
    }
   ],
   "source": [
    "sequences[0:10]"
   ]
  },
  {
   "cell_type": "code",
   "execution_count": 9,
   "metadata": {},
   "outputs": [
    {
     "name": "stdout",
     "output_type": "stream",
     "text": [
      "[1, 1425, 205, 1, 115, 1, 13, 1, 91, 1, 513]\n",
      "idm burn whole gotham city bcs going laugh everyone theyre panicking\n"
     ]
    }
   ],
   "source": [
    "i = 10\n",
    "print(sequences[i])\n",
    "print(sentences[i])"
   ]
  },
  {
   "cell_type": "markdown",
   "metadata": {},
   "source": [
    "**statistic of lengths in each sentence**"
   ]
  },
  {
   "cell_type": "code",
   "execution_count": 10,
   "metadata": {},
   "outputs": [
    {
     "data": {
      "text/plain": [
       "<matplotlib.axes._subplots.AxesSubplot at 0x174760ec588>"
      ]
     },
     "execution_count": 10,
     "metadata": {},
     "output_type": "execute_result"
    },
    {
     "data": {
      "image/png": "[encoded data removed]",
      "text/plain": [
       "<Figure size 432x288 with 1 Axes>"
      ]
     },
     "metadata": {},
     "output_type": "display_data"
    }
   ],
   "source": [
    "lens = []\n",
    "for s in sequences:\n",
    "    lens.append(len(s))\n",
    "plt.figure(); sns.boxplot(lens)"
   ]
  },
  {
   "cell_type": "code",
   "execution_count": 11,
   "metadata": {},
   "outputs": [
    {
     "name": "stdout",
     "output_type": "stream",
     "text": [
      "(1189, 12)\n"
     ]
    }
   ],
   "source": [
    "max_len = 12\n",
    "input_sequences = pad_sequences(sequences, padding = 'pre', truncating = 'post', maxlen = max_len)\n",
    "print(input_sequences.shape)"
   ]
  },
  {
   "cell_type": "markdown",
   "metadata": {},
   "source": [
    "#### get X, and Y"
   ]
  },
  {
   "cell_type": "code",
   "execution_count": 12,
   "metadata": {},
   "outputs": [
    {
     "data": {
      "text/plain": [
       "((1189, 12), (1189,))"
      ]
     },
     "execution_count": 12,
     "metadata": {},
     "output_type": "execute_result"
    }
   ],
   "source": [
    "y = df_y.values\n",
    "x_input = input_sequences\n",
    "x_input.shape, y.shape"
   ]
  },
  {
   "cell_type": "code",
   "execution_count": 13,
   "metadata": {},
   "outputs": [
    {
     "name": "stdout",
     "output_type": "stream",
     "text": [
      "positive case:  340\n",
      "negative case:  849\n"
     ]
    }
   ],
   "source": [
    "print('positive case: ', len(y[y == 1]))\n",
    "print('negative case: ', len(y[y == 0]))"
   ]
  },
  {
   "cell_type": "markdown",
   "metadata": {},
   "source": [
    "### Input Pipeline"
   ]
  },
  {
   "cell_type": "code",
   "execution_count": 14,
   "metadata": {},
   "outputs": [],
   "source": [
    "import tensorflow as tf\n",
    "from sklearn.model_selection import train_test_split"
   ]
  },
  {
   "cell_type": "markdown",
   "metadata": {},
   "source": [
    "**split train and test**"
   ]
  },
  {
   "cell_type": "code",
   "execution_count": 15,
   "metadata": {},
   "outputs": [
    {
     "name": "stdout",
     "output_type": "stream",
     "text": [
      "positive case:  (636, 12) (68, 12)\n",
      "negative case:  (636, 12) (213, 12)\n"
     ]
    }
   ],
   "source": [
    "rs = 41\n",
    "pos_trn, pos_val, _, _ = train_test_split(x_input[y == 1], y[y == 1], test_size = 0.2, random_state = rs)\n",
    "neg_trn, neg_val, _, _ = train_test_split(x_input[y == 0], y[y == 0], test_size = 0.25, random_state = rs)\n",
    "pos_trn = np.vstack((pos_trn, pos_trn, pos_trn, pos_trn))[0:neg_trn.shape[0]]    # oversampling\n",
    "print('positive case: ', pos_trn.shape, pos_val.shape)\n",
    "print('negative case: ', neg_trn.shape, neg_val.shape)"
   ]
  },
  {
   "cell_type": "code",
   "execution_count": 16,
   "metadata": {},
   "outputs": [
    {
     "name": "stdout",
     "output_type": "stream",
     "text": [
      "training:  (1272, 12) (1272,)\n",
      "validation:  (281, 12) (281,)\n"
     ]
    }
   ],
   "source": [
    "# finish training dataset\n",
    "x_trn = np.vstack((pos_trn, neg_trn))\n",
    "y_trn = np.hstack((np.ones((pos_trn.shape[0])),\n",
    "                   np.zeros((neg_trn.shape[0]))))\n",
    "# finish validation dataset\n",
    "x_val = np.vstack((pos_val, neg_val))\n",
    "y_val = np.hstack((np.ones((pos_val.shape[0])),\n",
    "                   np.zeros((neg_val.shape[0]))))\n",
    "print('training: ', x_trn.shape, y_trn.shape)\n",
    "print('validation: ', x_val.shape, y_val.shape)\n",
    "# numpy to tensor\n",
    "dataset_trn = tf.data.Dataset.from_tensor_slices((x_trn, y_trn)).shuffle(750).batch(128)\n",
    "dataset_val = tf.data.Dataset.from_tensor_slices((x_val, y_val)).shuffle(100).batch(128)"
   ]
  },
  {
   "cell_type": "code",
   "execution_count": 17,
   "metadata": {},
   "outputs": [
    {
     "data": {
      "text/plain": [
       "(<BatchDataset shapes: ((None, 12), (None,)), types: (tf.int32, tf.float64)>,\n",
       " <BatchDataset shapes: ((None, 12), (None,)), types: (tf.int32, tf.float64)>)"
      ]
     },
     "execution_count": 17,
     "metadata": {},
     "output_type": "execute_result"
    }
   ],
   "source": [
    "dataset_trn, dataset_val"
   ]
  },
  {
   "cell_type": "markdown",
   "metadata": {},
   "source": [
    "### Model Session"
   ]
  },
  {
   "cell_type": "code",
   "execution_count": 18,
   "metadata": {},
   "outputs": [],
   "source": [
    "from tensorflow.keras.models import Model, Sequential\n",
    "from tensorflow.keras import layers\n",
    "from tensorflow.keras.optimizers import Adam"
   ]
  },
  {
   "cell_type": "code",
   "execution_count": 19,
   "metadata": {},
   "outputs": [],
   "source": [
    "def get_cm(inputs, targets, show_acc = False):\n",
    "    cm = np.zeros((2, 2))\n",
    "    pred_pos = model.predict_classes(inputs[targets == 1]).squeeze()\n",
    "    pred_neg = model.predict_classes(inputs[targets == 0]).squeeze()\n",
    "    cm[0, 0] = np.sum(pred_pos == 1)\n",
    "    cm[1, 0] = np.sum(pred_pos == 0)\n",
    "    cm[0, 1] = np.sum(pred_neg == 1)\n",
    "    cm[1, 1] = np.sum(pred_neg == 0)\n",
    "    pos_acc = cm[0, 0]/(np.sum(cm[:, 0]))\n",
    "    neg_acc = cm[1, 1]/(np.sum(cm[:, 1]))\n",
    "    if show_acc:\n",
    "        print('pos acc: {:.4f}, neg acc: {:.4f}'.format(pos_acc, neg_acc))\n",
    "    return cm"
   ]
  },
  {
   "cell_type": "code",
   "execution_count": 20,
   "metadata": {},
   "outputs": [
    {
     "name": "stdout",
     "output_type": "stream",
     "text": [
      "Model: \"sequential\"\n",
      "_________________________________________________________________\n",
      "Layer (type)                 Output Shape              Param #   \n",
      "=================================================================\n",
      "embedding (Embedding)        (None, None, 2)           6200      \n",
      "_________________________________________________________________\n",
      "lstm (LSTM)                  (None, 1)                 16        \n",
      "_________________________________________________________________\n",
      "dense (Dense)                (None, 1)                 2         \n",
      "=================================================================\n",
      "Total params: 6,218\n",
      "Trainable params: 6,218\n",
      "Non-trainable params: 0\n",
      "_________________________________________________________________\n"
     ]
    }
   ],
   "source": [
    "model = Sequential([layers.Embedding(num_words, 2),\n",
    "                    layers.LSTM(1, return_sequences = False),\n",
    "#                     layers.Dropout(0.2),\n",
    "#                     layers.Dense(16, activation = 'relu'),\n",
    "#                     layers.Dropout(0.2),\n",
    "#                     layers.Dense(16, activation = 'relu'),\n",
    "#                     layers.Dropout(0.2),\n",
    "                    layers.Dense(1, activation = 'sigmoid')])\n",
    "\n",
    "optim = Adam(learning_rate = 0.001)\n",
    "model.compile(optimizer = optim, loss = 'binary_crossentropy', metrics = ['accuracy'])\n",
    "model.summary()"
   ]
  },
  {
   "cell_type": "code",
   "execution_count": 32,
   "metadata": {
    "scrolled": false
   },
   "outputs": [
    {
     "name": "stdout",
     "output_type": "stream",
     "text": [
      "epoch: 0, acc: 0.996, val_acc: 0.883, val_pos_f1: 0.776, val_pos_acc: 0.838\n",
      "-------------------------------------------\n",
      "epoch: 10, acc: 0.996, val_acc: 0.883, val_pos_f1: 0.779, val_pos_acc: 0.853\n",
      "-------------------------------------------\n"
     ]
    }
   ],
   "source": [
    "tf.keras.backend.clear_session()\n",
    "for epoch in range(20):\n",
    "    h = model.fit(dataset_trn, epochs = 1, validation_data = dataset_val, verbose = 0)\n",
    "    h1, h2 = h.history['accuracy'], h.history['val_accuracy']\n",
    "    cm = get_cm(x_val, y_val)\n",
    "    pos_f1 = (cm[0, 0]*2)/(cm[0,0]*2 + cm[1,0] + cm[0,1])\n",
    "    pos_ac = (cm[0,0])/(cm[0,0]+cm[1,0])\n",
    "    if epoch%10 == 0:\n",
    "        print('epoch: {}, acc: {:.3f}, val_acc: {:.3f}, val_pos_f1: {:.3f}, val_pos_acc: {:.3f}'.format(epoch, h1[0], h2[0], pos_f1, pos_ac))\n",
    "        print('-------------------------------------------')\n",
    "    if pos_f1 >= 0.79 and pos_ac >= 0.79:\n",
    "        print('epoch: {}, acc: {:.3f}, val_acc: {:.3f}'.format(epoch, h1[0], h2[0]))\n",
    "        print('val_pos_f1: {:.3f}, val_pos_acc: {:.3f}'.format(pos_f1, pos_ac))\n",
    "        break"
   ]
  },
  {
   "cell_type": "code",
   "execution_count": 33,
   "metadata": {},
   "outputs": [
    {
     "name": "stdout",
     "output_type": "stream",
     "text": [
      "pos acc: 0.8529, neg acc: 0.8826\n"
     ]
    },
    {
     "data": {
      "text/plain": [
       "array([[ 58.,  25.],\n",
       "       [ 10., 188.]])"
      ]
     },
     "execution_count": 33,
     "metadata": {},
     "output_type": "execute_result"
    }
   ],
   "source": [
    "get_cm(x_val, y_val, show_acc = True)"
   ]
  },
  {
   "cell_type": "code",
   "execution_count": 34,
   "metadata": {},
   "outputs": [
    {
     "name": "stdout",
     "output_type": "stream",
     "text": [
      "pos acc: 1.0000, neg acc: 0.9953\n"
     ]
    },
    {
     "data": {
      "text/plain": [
       "array([[636.,   3.],\n",
       "       [  0., 633.]])"
      ]
     },
     "execution_count": 34,
     "metadata": {},
     "output_type": "execute_result"
    }
   ],
   "source": [
    "get_cm(x_trn, y_trn, show_acc = True)"
   ]
  },
  {
   "cell_type": "markdown",
   "metadata": {},
   "source": [
    "### Visualize Concept Space"
   ]
  },
  {
   "cell_type": "code",
   "execution_count": 35,
   "metadata": {},
   "outputs": [],
   "source": [
    "intermediate = tf.keras.models.Model(inputs = model.inputs, outputs = model.get_layer('embedding').output)"
   ]
  },
  {
   "cell_type": "code",
   "execution_count": 36,
   "metadata": {},
   "outputs": [],
   "source": [
    "single_word = []\n",
    "for k, v in tokenizer.word_index.items():\n",
    "    single_word.append([v])\n",
    "single_word = pad_sequences(single_word, padding = 'pre', truncating = 'post', maxlen = 12)"
   ]
  },
  {
   "cell_type": "code",
   "execution_count": 37,
   "metadata": {},
   "outputs": [
    {
     "data": {
      "text/plain": [
       "((3101, 12), (281, 12), (1272, 12))"
      ]
     },
     "execution_count": 37,
     "metadata": {},
     "output_type": "execute_result"
    }
   ],
   "source": [
    "single_word.shape, x_val.shape, x_trn.shape"
   ]
  },
  {
   "cell_type": "code",
   "execution_count": 38,
   "metadata": {},
   "outputs": [],
   "source": [
    "f = intermediate.predict(single_word[0:3000])"
   ]
  },
  {
   "cell_type": "code",
   "execution_count": 39,
   "metadata": {},
   "outputs": [],
   "source": [
    "pos = ['county', 'emergency', 'typhoon', 'collision', 'major', 'eyewitness', 'killed',\n",
    "       'rescuers', 'offensive', 'governor', 'photos', 'plane', 'ufc2015', 'california',\n",
    "       'replace', 'hundreds', 'sidelines', 'northern', 'hurricane', 'disaster']\n",
    "neg = ['see', 'collide', 'time', 'one', 'well', 'know', 'never', 'sunk', 'movie', 'like',\n",
    "       'much', 'body', 'work', 'god', 'emotions', 'screaming', 'love', 'text']"
   ]
  },
  {
   "cell_type": "code",
   "execution_count": 40,
   "metadata": {},
   "outputs": [
    {
     "data": {
      "text/plain": [
       "Text(0, 0.5, 'embedding dimension 2')"
      ]
     },
     "execution_count": 40,
     "metadata": {},
     "output_type": "execute_result"
    },
    {
     "data": {
      "image/png": "[encoded data removed]",
      "text/plain": [
       "<Figure size 1440x720 with 1 Axes>"
      ]
     },
     "metadata": {},
     "output_type": "display_data"
    }
   ],
   "source": [
    "plt.figure(figsize = (20, 10))\n",
    "box = []\n",
    "count = 0\n",
    "for i, (k, v) in enumerate(tokenizer.word_index.items()):\n",
    "    plt.scatter(f[i, -1, 0], f[i, -1, 1], s = 2, color = 'blue', alpha = 0.2)\n",
    "    if k in pos:\n",
    "        plt.text(f[i, -1, 0], f[i, -1, 1], k, fontsize=12)\n",
    "        plt.scatter(f[i, -1, 0], f[i, -1, 1], color = 'yellow', alpha = 0.6)\n",
    "    if k in neg:\n",
    "        plt.text(f[i, -1, 0], f[i, -1, 1], k, fontsize=12)\n",
    "        plt.scatter(f[i, -1, 0], f[i, -1, 1], color = 'red', alpha = 0.6)\n",
    "    if count < 20:\n",
    "        if (0 < abs(f[i, -1, 0]) < 0.01) and (0 < abs(f[i, -1, 1]) < 0.01):\n",
    "            count += 1\n",
    "            box.append(k)\n",
    "    if i > 2900:\n",
    "        break\n",
    "plt.title('embedding outputs (isNews/notNews)\\n in the Box: {}'.format(box), fontsize = 12)\n",
    "plt.xlabel('embedding dimension 1')\n",
    "plt.ylabel('embedding dimension 2')"
   ]
  },
  {
   "cell_type": "code",
   "execution_count": null,
   "metadata": {},
   "outputs": [],
   "source": []
  },
  {
   "cell_type": "code",
   "execution_count": null,
   "metadata": {},
   "outputs": [],
   "source": []
  }
 ],
 "metadata": {
  "kernelspec": {
   "display_name": "Python 3",
   "language": "python",
   "name": "python3"
  },
  "language_info": {
   "codemirror_mode": {
    "name": "ipython",
    "version": 3
   },
   "file_extension": ".py",
   "mimetype": "text/x-python",
   "name": "python",
   "nbconvert_exporter": "python",
   "pygments_lexer": "ipython3",
   "version": "3.7.7"
  }
 },
 "nbformat": 4,
 "nbformat_minor": 4
}
